{
  "nbformat": 4,
  "nbformat_minor": 0,
  "metadata": {
    "colab": {
      "provenance": [],
      "authorship_tag": "ABX9TyNjOJYaHLVF+cYGvYJ+TEkJ",
      "include_colab_link": true
    },
    "kernelspec": {
      "name": "python3",
      "display_name": "Python 3"
    },
    "language_info": {
      "name": "python"
    }
  },
  "cells": [
    {
      "cell_type": "markdown",
      "metadata": {
        "id": "view-in-github",
        "colab_type": "text"
      },
      "source": [
        "<a href=\"https://colab.research.google.com/github/LipeLiposo/Chatbot_para_Agendamento_e_Atendimentos/blob/main/Imers%C3%A3o_IA_Alura_%2B_Google_Projeto.ipynb\" target=\"_parent\"><img src=\"https://colab.research.google.com/assets/colab-badge.svg\" alt=\"Open In Colab\"/></a>"
      ]
    },
    {
      "cell_type": "code",
      "source": [
        "#importações e configs iniciais\n",
        "!pip install -u -q google-generativeai\n",
        "import numpy as np\n",
        "import pandas as pd\n",
        "import google.generativeai as genai\n",
        "from google.colab import userdata\n",
        "\n",
        "api_key = userdata.get('SECRET_KEY')\n",
        "genai.configure(api_key=api_key)\n",
        "\n",
        "for m in genai.list_models():\n",
        "  if 'embedContent' in m.supported_generation_methods:\n",
        "    print(m.name)"
      ],
      "metadata": {
        "id": "vLMwarsbgxPk"
      },
      "execution_count": null,
      "outputs": []
    },
    {
      "cell_type": "code",
      "source": [
        "#Definição e Listagem de documentos que serão buscados\n",
        "DOCUMENT1 = {\n",
        "    \"Titulo\": \"Tabela de preços\",\n",
        "    \"Conteudo\": \"CORTE MASCULINO->R$35 / CORTE INFANTIL MASCULINO->R$35 / CORTE FEMININO->R$80 / CORTE INFANTIL FEMINO->R$50 / SOBRANCELHA->R$40 / SOBRANCELHA + HENNA->R$45 / APLICAÇÃO DE HENNA->R$18 / BARBA->R$30 / BUÇO->R$18 / DEPILAÇÃO FACIAL COM LINHA->R$60\"}\n",
        "DOCUMENT2 = {\n",
        "    \"Titulo\": \"Horário de Funcionamento\",\n",
        "    \"Conteudo\": \"O horário de atendimento do salão de beleza é das 09:00 às 12:00 e das 14:00 às 22:00\"\n",
        "}\n",
        "DOCUMENT3 = {\n",
        "    \"Titulo\": \"Tempo necessário para serviços (em horas)\",\n",
        "    \"Conteudo\": \"Corte Masculino-> Leva 01 hora para ser feito / Corte Feminino-> Leva 02 horas para ser feito\"\n",
        "}\n",
        "\n",
        "documents = [DOCUMENT1, DOCUMENT2, DOCUMENT3]\n"
      ],
      "metadata": {
        "id": "B15zGnQlu3D6"
      },
      "execution_count": null,
      "outputs": []
    },
    {
      "cell_type": "code",
      "source": [
        "#Criando um Data Frame e organizando os dados em uma tabela\n",
        "df = pd.DataFrame(documents)"
      ],
      "metadata": {
        "id": "r3ORsfwmHO8x"
      },
      "execution_count": null,
      "outputs": []
    },
    {
      "cell_type": "code",
      "source": [
        "#definindo o modelo que vai gerar as embeddings\n",
        "model = \"models/embedding-001\""
      ],
      "metadata": {
        "id": "r79rmc-3I2Zr"
      },
      "execution_count": null,
      "outputs": []
    },
    {
      "cell_type": "code",
      "source": [
        "#criando uma função que gera embeddings\n",
        "def embed_fn(title, text):\n",
        "  return genai.embed_content(model=model,\n",
        "                                 content=text,\n",
        "                                 title=title,\n",
        "                                 task_type=\"RETRIEVAL_DOCUMENT\")[\"embedding\"]"
      ],
      "metadata": {
        "id": "Xjn94-6jJKrl"
      },
      "execution_count": null,
      "outputs": []
    },
    {
      "cell_type": "code",
      "source": [
        "#Fazendo a função que gera embeddings percorrer por todo Data Frame\n",
        "df[\"Embeddings\"] = df.apply(lambda row: embed_fn(row[\"Titulo\"],row[\"Conteudo\"]), axis =1)"
      ],
      "metadata": {
        "id": "dPhGnKiPKXaf"
      },
      "execution_count": null,
      "outputs": []
    },
    {
      "cell_type": "code",
      "source": [
        "def gerar_e_buscar_consulta(consulta, base, model):\n",
        "  embedding_da_consulta = genai.embed_content(model=model,\n",
        "                                 content=consulta,\n",
        "                                 task_type=\"RETRIEVAL_QUERY\")[\"embedding\"]\n",
        "\n",
        "\n",
        "  produtos_escalares = np.dot(np.stack(df[\"Embeddings\"]), embedding_da_consulta)\n",
        "\n",
        "  indice= np.argmax(produtos_escalares)\n",
        "  return df.iloc[indice][\"Conteudo\"]"
      ],
      "metadata": {
        "id": "wb_dwDiyNw5I"
      },
      "execution_count": null,
      "outputs": []
    },
    {
      "cell_type": "code",
      "source": [
        "#Realizando uma consulta, e salvando qual documento condiz mais com o meu prompt\n",
        "consulta = \"Só posso ir aí depois do almoço. Que hrs vc atende?\"\n",
        "\n",
        "trecho = gerar_e_buscar_consulta(consulta, df, model)\n",
        "print(trecho)"
      ],
      "metadata": {
        "id": "PAPh1y0TUNhM",
        "colab": {
          "base_uri": "https://localhost:8080/",
          "height": 35
        },
        "outputId": "196ef2b5-602a-4289-8d66-5132e126be2b"
      },
      "execution_count": null,
      "outputs": [
        {
          "output_type": "stream",
          "name": "stdout",
          "text": [
            "O horário de atendimento do salão de beleza é das 09:00 às 12:00 e das 14:00 às 22:00\n"
          ]
        }
      ]
    },
    {
      "cell_type": "code",
      "source": [
        "#Gerando uma resposta mais Criativa baseando-se no documento que foi retornado\n",
        "generation_config = {\n",
        "    \"temperature\": 0.25,\n",
        "    \"candidate_count\":1,\n",
        "}\n",
        "\n",
        "prompt = f\"Reescreva, sem adicionar informações que não façam parte do texto: ({trecho})\"\n",
        "model_2 = genai.GenerativeModel(\"gemini-1.0-pro\",\n",
        "                                generation_config=generation_config)\n",
        "response = model_2.generate_content(prompt)\n",
        "print(response.text)"
      ],
      "metadata": {
        "colab": {
          "base_uri": "https://localhost:8080/",
          "height": 72
        },
        "id": "bSbuV3AzZZQw",
        "outputId": "91fc28fb-85f6-4b0d-8285-4c5196da5fc8"
      },
      "execution_count": null,
      "outputs": [
        {
          "output_type": "stream",
          "name": "stdout",
          "text": [
            "Horário de atendimento:\n",
            "- 09:00 às 12:00\n",
            "- 14:00 às 22:00\n"
          ]
        }
      ]
    }
  ]
}